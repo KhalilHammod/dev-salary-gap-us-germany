{
 "cells": [
  {
   "cell_type": "markdown",
   "metadata": {},
   "source": [
    "# Inferential Analysis of Developer Compensation Across Countries\n",
    "\n",
    "This project explores the question:  \n",
    "**Are young software developers (age 18–24) in the US and Germany paid equally, or is there a significant salary gap?**\n",
    "\n",
    "We use the Stack Overflow 2024 Developer Survey, focusing on rigorous data cleaning, transformation, and statistical analysis to ensure meaningful results.\n",
    "\n",
    "*Why this matters:*  \n",
    "Salary equity is important for policy, for individuals planning careers, and for understanding the global tech labor market. Our analysis combines exploratory data analysis, hypothesis testing, and regression modeling.\n",
    "\n"
   ]
  },
  {
   "cell_type": "code",
   "execution_count": 1,
   "metadata": {},
   "outputs": [],
   "source": [
    "import pandas as pd\n",
    "import numpy as np\n",
    "import matplotlib.pyplot as plt\n",
    "import seaborn as sns\n",
    "from scipy import stats \n",
    "import statsmodels.api as sm\n",
    "import statsmodels.formula.api as smf \n",
    "from scipy.stats import t\n",
    "from scipy.stats import ttest_ind"
   ]
  },
  {
   "cell_type": "code",
   "execution_count": 2,
   "metadata": {},
   "outputs": [
    {
     "data": {
      "text/plain": [
       "(65437, 114)"
      ]
     },
     "execution_count": 2,
     "metadata": {},
     "output_type": "execute_result"
    }
   ],
   "source": [
    "pd.set_option('display.max_columns', None)\n",
    "df = pd.read_csv('survey_results_public.csv')\n",
    "df.shape"
   ]
  },
  {
   "cell_type": "markdown",
   "metadata": {},
   "source": [
    "## Data Preparation: Focusing the Analysis\n",
    "\n",
    "The survey contains tens of thousands of responses. To make a fair, apples-to-apples comparison, we:\n",
    "- **Filter** for developers in the US and Germany\n",
    "- **Limit** to respondents aged 18–24\n",
    "- **Remove** salaries below country-specific minimum wage standards (to focus on full-time, professional roles)\n",
    "- **Drop** incomplete records (e.g., missing work experience)\n"
   ]
  },
  {
   "cell_type": "code",
   "execution_count": 3,
   "metadata": {},
   "outputs": [],
   "source": [
    "mask = (\n",
    "    (df['Country'].isin(['Germany', 'United States of America'])) &\n",
    "    (df['Age'] == '18-24 years old') &\n",
    "    (df['ConvertedCompYearly'].notnull())\n",
    ")\n",
    "df_young = df[mask].copy()"
   ]
  },
  {
   "cell_type": "code",
   "execution_count": 4,
   "metadata": {},
   "outputs": [
    {
     "data": {
      "text/plain": [
       "714"
      ]
     },
     "execution_count": 4,
     "metadata": {},
     "output_type": "execute_result"
    }
   ],
   "source": [
    "len(df_young)"
   ]
  },
  {
   "cell_type": "code",
   "execution_count": 5,
   "metadata": {},
   "outputs": [
    {
     "data": {
      "text/plain": [
       "United States of America    424\n",
       "Germany                     290\n",
       "Name: Country, dtype: int64"
      ]
     },
     "execution_count": 5,
     "metadata": {},
     "output_type": "execute_result"
    }
   ],
   "source": [
    "df_young['Country'].value_counts()"
   ]
  },
  {
   "cell_type": "code",
   "execution_count": 6,
   "metadata": {},
   "outputs": [],
   "source": [
    "min_wage_germany = 30401 #converted to dollar\n",
    "min_wage_us = 35568\n",
    "df_young_filtered = df_young[\n",
    "    ((df_young['Country'] == 'Germany') & (df_young['ConvertedCompYearly'] >= min_wage_germany)) |\n",
    "    ((df_young['Country'] == 'United States of America') & (df_young['ConvertedCompYearly'] >= min_wage_us))\n",
    "]"
   ]
  },
  {
   "cell_type": "code",
   "execution_count": 7,
   "metadata": {},
   "outputs": [
    {
     "data": {
      "text/plain": [
       "United States of America    384\n",
       "Germany                     156\n",
       "Name: Country, dtype: int64"
      ]
     },
     "execution_count": 7,
     "metadata": {},
     "output_type": "execute_result"
    }
   ],
   "source": [
    "df_young_filtered['Country'].value_counts()"
   ]
  },
  {
   "cell_type": "code",
   "execution_count": 8,
   "metadata": {},
   "outputs": [],
   "source": [
    "de = df_young_filtered[df_young_filtered['Country'] == 'Germany']\n",
    "us = df_young_filtered[df_young_filtered['Country'] == 'United States of America']"
   ]
  },
  {
   "cell_type": "code",
   "execution_count": 9,
   "metadata": {},
   "outputs": [
    {
     "name": "stdout",
     "output_type": "stream",
     "text": [
      "Germany sample Size : 156  Us sample size: 384\n"
     ]
    }
   ],
   "source": [
    "print('Germany sample Size :',len(de),' ' \n",
    "      'Us sample size:',len(us))\n"
   ]
  },
  {
   "cell_type": "code",
   "execution_count": 10,
   "metadata": {},
   "outputs": [
    {
     "data": {
      "text/html": [
       "<div>\n",
       "<style scoped>\n",
       "    .dataframe tbody tr th:only-of-type {\n",
       "        vertical-align: middle;\n",
       "    }\n",
       "\n",
       "    .dataframe tbody tr th {\n",
       "        vertical-align: top;\n",
       "    }\n",
       "\n",
       "    .dataframe thead th {\n",
       "        text-align: right;\n",
       "    }\n",
       "</style>\n",
       "<table border=\"1\" class=\"dataframe\">\n",
       "  <thead>\n",
       "    <tr style=\"text-align: right;\">\n",
       "      <th></th>\n",
       "      <th>ResponseId</th>\n",
       "      <th>CompTotal</th>\n",
       "      <th>WorkExp</th>\n",
       "      <th>JobSatPoints_1</th>\n",
       "      <th>JobSatPoints_4</th>\n",
       "      <th>JobSatPoints_5</th>\n",
       "      <th>JobSatPoints_6</th>\n",
       "      <th>JobSatPoints_7</th>\n",
       "      <th>JobSatPoints_8</th>\n",
       "      <th>JobSatPoints_9</th>\n",
       "      <th>JobSatPoints_10</th>\n",
       "      <th>JobSatPoints_11</th>\n",
       "      <th>ConvertedCompYearly</th>\n",
       "      <th>JobSat</th>\n",
       "    </tr>\n",
       "  </thead>\n",
       "  <tbody>\n",
       "    <tr>\n",
       "      <th>count</th>\n",
       "      <td>156.000000</td>\n",
       "      <td>1.560000e+02</td>\n",
       "      <td>108.000000</td>\n",
       "      <td>110.000000</td>\n",
       "      <td>111.000000</td>\n",
       "      <td>111.000000</td>\n",
       "      <td>111.000000</td>\n",
       "      <td>111.000000</td>\n",
       "      <td>111.000000</td>\n",
       "      <td>111.000000</td>\n",
       "      <td>111.000000</td>\n",
       "      <td>111.000000</td>\n",
       "      <td>1.560000e+02</td>\n",
       "      <td>106.000000</td>\n",
       "    </tr>\n",
       "    <tr>\n",
       "      <th>mean</th>\n",
       "      <td>23157.666667</td>\n",
       "      <td>6.720881e+04</td>\n",
       "      <td>3.981481</td>\n",
       "      <td>15.545455</td>\n",
       "      <td>4.558559</td>\n",
       "      <td>7.117117</td>\n",
       "      <td>26.522523</td>\n",
       "      <td>23.846847</td>\n",
       "      <td>20.450450</td>\n",
       "      <td>16.801802</td>\n",
       "      <td>14.162162</td>\n",
       "      <td>9.891892</td>\n",
       "      <td>7.210142e+04</td>\n",
       "      <td>6.764151</td>\n",
       "    </tr>\n",
       "    <tr>\n",
       "      <th>std</th>\n",
       "      <td>11494.531602</td>\n",
       "      <td>1.151919e+05</td>\n",
       "      <td>2.340147</td>\n",
       "      <td>25.356409</td>\n",
       "      <td>12.743401</td>\n",
       "      <td>16.334425</td>\n",
       "      <td>30.201098</td>\n",
       "      <td>27.094850</td>\n",
       "      <td>27.834818</td>\n",
       "      <td>25.982099</td>\n",
       "      <td>25.048513</td>\n",
       "      <td>22.513572</td>\n",
       "      <td>1.236448e+05</td>\n",
       "      <td>2.063524</td>\n",
       "    </tr>\n",
       "    <tr>\n",
       "      <th>min</th>\n",
       "      <td>676.000000</td>\n",
       "      <td>2.880000e+04</td>\n",
       "      <td>0.000000</td>\n",
       "      <td>0.000000</td>\n",
       "      <td>0.000000</td>\n",
       "      <td>0.000000</td>\n",
       "      <td>0.000000</td>\n",
       "      <td>0.000000</td>\n",
       "      <td>0.000000</td>\n",
       "      <td>0.000000</td>\n",
       "      <td>0.000000</td>\n",
       "      <td>0.000000</td>\n",
       "      <td>3.093300e+04</td>\n",
       "      <td>0.000000</td>\n",
       "    </tr>\n",
       "    <tr>\n",
       "      <th>25%</th>\n",
       "      <td>13582.750000</td>\n",
       "      <td>4.200000e+04</td>\n",
       "      <td>2.750000</td>\n",
       "      <td>0.000000</td>\n",
       "      <td>0.000000</td>\n",
       "      <td>0.000000</td>\n",
       "      <td>0.000000</td>\n",
       "      <td>0.000000</td>\n",
       "      <td>0.000000</td>\n",
       "      <td>0.000000</td>\n",
       "      <td>0.000000</td>\n",
       "      <td>0.000000</td>\n",
       "      <td>4.511100e+04</td>\n",
       "      <td>6.000000</td>\n",
       "    </tr>\n",
       "    <tr>\n",
       "      <th>50%</th>\n",
       "      <td>23949.500000</td>\n",
       "      <td>5.000000e+04</td>\n",
       "      <td>4.000000</td>\n",
       "      <td>5.000000</td>\n",
       "      <td>0.000000</td>\n",
       "      <td>0.000000</td>\n",
       "      <td>20.000000</td>\n",
       "      <td>20.000000</td>\n",
       "      <td>10.000000</td>\n",
       "      <td>10.000000</td>\n",
       "      <td>5.000000</td>\n",
       "      <td>0.000000</td>\n",
       "      <td>5.370300e+04</td>\n",
       "      <td>7.000000</td>\n",
       "    </tr>\n",
       "    <tr>\n",
       "      <th>75%</th>\n",
       "      <td>32544.750000</td>\n",
       "      <td>6.000000e+04</td>\n",
       "      <td>5.000000</td>\n",
       "      <td>20.000000</td>\n",
       "      <td>0.000000</td>\n",
       "      <td>5.000000</td>\n",
       "      <td>30.000000</td>\n",
       "      <td>30.000000</td>\n",
       "      <td>24.000000</td>\n",
       "      <td>20.000000</td>\n",
       "      <td>15.000000</td>\n",
       "      <td>9.000000</td>\n",
       "      <td>6.444400e+04</td>\n",
       "      <td>8.000000</td>\n",
       "    </tr>\n",
       "    <tr>\n",
       "      <th>max</th>\n",
       "      <td>40819.000000</td>\n",
       "      <td>1.200000e+06</td>\n",
       "      <td>18.000000</td>\n",
       "      <td>100.000000</td>\n",
       "      <td>79.000000</td>\n",
       "      <td>96.000000</td>\n",
       "      <td>100.000000</td>\n",
       "      <td>100.000000</td>\n",
       "      <td>100.000000</td>\n",
       "      <td>100.000000</td>\n",
       "      <td>100.000000</td>\n",
       "      <td>100.000000</td>\n",
       "      <td>1.288874e+06</td>\n",
       "      <td>10.000000</td>\n",
       "    </tr>\n",
       "  </tbody>\n",
       "</table>\n",
       "</div>"
      ],
      "text/plain": [
       "         ResponseId     CompTotal     WorkExp  JobSatPoints_1  JobSatPoints_4  \\\n",
       "count    156.000000  1.560000e+02  108.000000      110.000000      111.000000   \n",
       "mean   23157.666667  6.720881e+04    3.981481       15.545455        4.558559   \n",
       "std    11494.531602  1.151919e+05    2.340147       25.356409       12.743401   \n",
       "min      676.000000  2.880000e+04    0.000000        0.000000        0.000000   \n",
       "25%    13582.750000  4.200000e+04    2.750000        0.000000        0.000000   \n",
       "50%    23949.500000  5.000000e+04    4.000000        5.000000        0.000000   \n",
       "75%    32544.750000  6.000000e+04    5.000000       20.000000        0.000000   \n",
       "max    40819.000000  1.200000e+06   18.000000      100.000000       79.000000   \n",
       "\n",
       "       JobSatPoints_5  JobSatPoints_6  JobSatPoints_7  JobSatPoints_8  \\\n",
       "count      111.000000      111.000000      111.000000      111.000000   \n",
       "mean         7.117117       26.522523       23.846847       20.450450   \n",
       "std         16.334425       30.201098       27.094850       27.834818   \n",
       "min          0.000000        0.000000        0.000000        0.000000   \n",
       "25%          0.000000        0.000000        0.000000        0.000000   \n",
       "50%          0.000000       20.000000       20.000000       10.000000   \n",
       "75%          5.000000       30.000000       30.000000       24.000000   \n",
       "max         96.000000      100.000000      100.000000      100.000000   \n",
       "\n",
       "       JobSatPoints_9  JobSatPoints_10  JobSatPoints_11  ConvertedCompYearly  \\\n",
       "count      111.000000       111.000000       111.000000         1.560000e+02   \n",
       "mean        16.801802        14.162162         9.891892         7.210142e+04   \n",
       "std         25.982099        25.048513        22.513572         1.236448e+05   \n",
       "min          0.000000         0.000000         0.000000         3.093300e+04   \n",
       "25%          0.000000         0.000000         0.000000         4.511100e+04   \n",
       "50%         10.000000         5.000000         0.000000         5.370300e+04   \n",
       "75%         20.000000        15.000000         9.000000         6.444400e+04   \n",
       "max        100.000000       100.000000       100.000000         1.288874e+06   \n",
       "\n",
       "           JobSat  \n",
       "count  106.000000  \n",
       "mean     6.764151  \n",
       "std      2.063524  \n",
       "min      0.000000  \n",
       "25%      6.000000  \n",
       "50%      7.000000  \n",
       "75%      8.000000  \n",
       "max     10.000000  "
      ]
     },
     "execution_count": 10,
     "metadata": {},
     "output_type": "execute_result"
    }
   ],
   "source": [
    "de.describe()"
   ]
  },
  {
   "cell_type": "code",
   "execution_count": 11,
   "metadata": {},
   "outputs": [
    {
     "data": {
      "text/html": [
       "<div>\n",
       "<style scoped>\n",
       "    .dataframe tbody tr th:only-of-type {\n",
       "        vertical-align: middle;\n",
       "    }\n",
       "\n",
       "    .dataframe tbody tr th {\n",
       "        vertical-align: top;\n",
       "    }\n",
       "\n",
       "    .dataframe thead th {\n",
       "        text-align: right;\n",
       "    }\n",
       "</style>\n",
       "<table border=\"1\" class=\"dataframe\">\n",
       "  <thead>\n",
       "    <tr style=\"text-align: right;\">\n",
       "      <th></th>\n",
       "      <th>ResponseId</th>\n",
       "      <th>CompTotal</th>\n",
       "      <th>WorkExp</th>\n",
       "      <th>JobSatPoints_1</th>\n",
       "      <th>JobSatPoints_4</th>\n",
       "      <th>JobSatPoints_5</th>\n",
       "      <th>JobSatPoints_6</th>\n",
       "      <th>JobSatPoints_7</th>\n",
       "      <th>JobSatPoints_8</th>\n",
       "      <th>JobSatPoints_9</th>\n",
       "      <th>JobSatPoints_10</th>\n",
       "      <th>JobSatPoints_11</th>\n",
       "      <th>ConvertedCompYearly</th>\n",
       "      <th>JobSat</th>\n",
       "    </tr>\n",
       "  </thead>\n",
       "  <tbody>\n",
       "    <tr>\n",
       "      <th>count</th>\n",
       "      <td>384.000000</td>\n",
       "      <td>384.000000</td>\n",
       "      <td>241.000000</td>\n",
       "      <td>245.000000</td>\n",
       "      <td>246.000000</td>\n",
       "      <td>246.000000</td>\n",
       "      <td>246.00000</td>\n",
       "      <td>245.000000</td>\n",
       "      <td>246.000000</td>\n",
       "      <td>246.000000</td>\n",
       "      <td>246.000000</td>\n",
       "      <td>246.000000</td>\n",
       "      <td>384.000000</td>\n",
       "      <td>239.000000</td>\n",
       "    </tr>\n",
       "    <tr>\n",
       "      <th>mean</th>\n",
       "      <td>22256.351562</td>\n",
       "      <td>100865.348958</td>\n",
       "      <td>2.846473</td>\n",
       "      <td>11.061224</td>\n",
       "      <td>5.219512</td>\n",
       "      <td>4.451220</td>\n",
       "      <td>17.95935</td>\n",
       "      <td>22.559184</td>\n",
       "      <td>14.776423</td>\n",
       "      <td>12.898374</td>\n",
       "      <td>5.703252</td>\n",
       "      <td>4.634146</td>\n",
       "      <td>100865.348958</td>\n",
       "      <td>6.849372</td>\n",
       "    </tr>\n",
       "    <tr>\n",
       "      <th>std</th>\n",
       "      <td>11916.381592</td>\n",
       "      <td>50034.211790</td>\n",
       "      <td>1.781057</td>\n",
       "      <td>16.696186</td>\n",
       "      <td>14.406369</td>\n",
       "      <td>12.605621</td>\n",
       "      <td>20.20200</td>\n",
       "      <td>23.102976</td>\n",
       "      <td>17.694309</td>\n",
       "      <td>17.702122</td>\n",
       "      <td>14.050541</td>\n",
       "      <td>13.106327</td>\n",
       "      <td>50034.211790</td>\n",
       "      <td>2.066721</td>\n",
       "    </tr>\n",
       "    <tr>\n",
       "      <th>min</th>\n",
       "      <td>670.000000</td>\n",
       "      <td>36000.000000</td>\n",
       "      <td>0.000000</td>\n",
       "      <td>0.000000</td>\n",
       "      <td>0.000000</td>\n",
       "      <td>0.000000</td>\n",
       "      <td>0.00000</td>\n",
       "      <td>0.000000</td>\n",
       "      <td>0.000000</td>\n",
       "      <td>0.000000</td>\n",
       "      <td>0.000000</td>\n",
       "      <td>0.000000</td>\n",
       "      <td>36000.000000</td>\n",
       "      <td>0.000000</td>\n",
       "    </tr>\n",
       "    <tr>\n",
       "      <th>25%</th>\n",
       "      <td>11818.000000</td>\n",
       "      <td>69000.000000</td>\n",
       "      <td>2.000000</td>\n",
       "      <td>0.000000</td>\n",
       "      <td>0.000000</td>\n",
       "      <td>0.000000</td>\n",
       "      <td>0.00000</td>\n",
       "      <td>5.000000</td>\n",
       "      <td>0.000000</td>\n",
       "      <td>0.000000</td>\n",
       "      <td>0.000000</td>\n",
       "      <td>0.000000</td>\n",
       "      <td>69000.000000</td>\n",
       "      <td>6.000000</td>\n",
       "    </tr>\n",
       "    <tr>\n",
       "      <th>50%</th>\n",
       "      <td>22710.500000</td>\n",
       "      <td>90000.000000</td>\n",
       "      <td>2.000000</td>\n",
       "      <td>5.000000</td>\n",
       "      <td>0.000000</td>\n",
       "      <td>0.000000</td>\n",
       "      <td>15.00000</td>\n",
       "      <td>20.000000</td>\n",
       "      <td>10.000000</td>\n",
       "      <td>6.000000</td>\n",
       "      <td>0.000000</td>\n",
       "      <td>0.000000</td>\n",
       "      <td>90000.000000</td>\n",
       "      <td>7.000000</td>\n",
       "    </tr>\n",
       "    <tr>\n",
       "      <th>75%</th>\n",
       "      <td>33282.250000</td>\n",
       "      <td>120000.000000</td>\n",
       "      <td>3.000000</td>\n",
       "      <td>15.000000</td>\n",
       "      <td>0.000000</td>\n",
       "      <td>5.000000</td>\n",
       "      <td>25.00000</td>\n",
       "      <td>30.000000</td>\n",
       "      <td>20.000000</td>\n",
       "      <td>20.000000</td>\n",
       "      <td>5.000000</td>\n",
       "      <td>5.000000</td>\n",
       "      <td>120000.000000</td>\n",
       "      <td>8.000000</td>\n",
       "    </tr>\n",
       "    <tr>\n",
       "      <th>max</th>\n",
       "      <td>41083.000000</td>\n",
       "      <td>500000.000000</td>\n",
       "      <td>12.000000</td>\n",
       "      <td>100.000000</td>\n",
       "      <td>100.000000</td>\n",
       "      <td>90.000000</td>\n",
       "      <td>100.00000</td>\n",
       "      <td>100.000000</td>\n",
       "      <td>90.000000</td>\n",
       "      <td>100.000000</td>\n",
       "      <td>100.000000</td>\n",
       "      <td>100.000000</td>\n",
       "      <td>500000.000000</td>\n",
       "      <td>10.000000</td>\n",
       "    </tr>\n",
       "  </tbody>\n",
       "</table>\n",
       "</div>"
      ],
      "text/plain": [
       "         ResponseId      CompTotal     WorkExp  JobSatPoints_1  \\\n",
       "count    384.000000     384.000000  241.000000      245.000000   \n",
       "mean   22256.351562  100865.348958    2.846473       11.061224   \n",
       "std    11916.381592   50034.211790    1.781057       16.696186   \n",
       "min      670.000000   36000.000000    0.000000        0.000000   \n",
       "25%    11818.000000   69000.000000    2.000000        0.000000   \n",
       "50%    22710.500000   90000.000000    2.000000        5.000000   \n",
       "75%    33282.250000  120000.000000    3.000000       15.000000   \n",
       "max    41083.000000  500000.000000   12.000000      100.000000   \n",
       "\n",
       "       JobSatPoints_4  JobSatPoints_5  JobSatPoints_6  JobSatPoints_7  \\\n",
       "count      246.000000      246.000000       246.00000      245.000000   \n",
       "mean         5.219512        4.451220        17.95935       22.559184   \n",
       "std         14.406369       12.605621        20.20200       23.102976   \n",
       "min          0.000000        0.000000         0.00000        0.000000   \n",
       "25%          0.000000        0.000000         0.00000        5.000000   \n",
       "50%          0.000000        0.000000        15.00000       20.000000   \n",
       "75%          0.000000        5.000000        25.00000       30.000000   \n",
       "max        100.000000       90.000000       100.00000      100.000000   \n",
       "\n",
       "       JobSatPoints_8  JobSatPoints_9  JobSatPoints_10  JobSatPoints_11  \\\n",
       "count      246.000000      246.000000       246.000000       246.000000   \n",
       "mean        14.776423       12.898374         5.703252         4.634146   \n",
       "std         17.694309       17.702122        14.050541        13.106327   \n",
       "min          0.000000        0.000000         0.000000         0.000000   \n",
       "25%          0.000000        0.000000         0.000000         0.000000   \n",
       "50%         10.000000        6.000000         0.000000         0.000000   \n",
       "75%         20.000000       20.000000         5.000000         5.000000   \n",
       "max         90.000000      100.000000       100.000000       100.000000   \n",
       "\n",
       "       ConvertedCompYearly      JobSat  \n",
       "count           384.000000  239.000000  \n",
       "mean         100865.348958    6.849372  \n",
       "std           50034.211790    2.066721  \n",
       "min           36000.000000    0.000000  \n",
       "25%           69000.000000    6.000000  \n",
       "50%           90000.000000    7.000000  \n",
       "75%          120000.000000    8.000000  \n",
       "max          500000.000000   10.000000  "
      ]
     },
     "execution_count": 11,
     "metadata": {},
     "output_type": "execute_result"
    }
   ],
   "source": [
    "us.describe()"
   ]
  },
  {
   "cell_type": "code",
   "execution_count": 12,
   "metadata": {},
   "outputs": [],
   "source": [
    "us_clean = us.dropna(subset=['WorkExp'])\n",
    "de_clean = de.dropna(subset=['WorkExp'])"
   ]
  },
  {
   "cell_type": "code",
   "execution_count": 13,
   "metadata": {},
   "outputs": [
    {
     "name": "stdout",
     "output_type": "stream",
     "text": [
      "Germany-Clean sample Size : 108  Us-Clean sample size: 241\n"
     ]
    }
   ],
   "source": [
    "print('Germany-Clean sample Size :',len(de_clean),' ' \n",
    "      'Us-Clean sample size:',len(us_clean))"
   ]
  },
  {
   "cell_type": "markdown",
   "metadata": {},
   "source": [
    "## Exploratory Data Analysis (EDA)\n",
    "\n",
    "Before any modeling, we explore the salary distributions for each country:\n",
    "- Visualize with histograms and boxplots\n",
    "- Compute skewness and summary statistics\n",
    "\n",
    "*What we found:*  \n",
    "Both the US and German samples showed substantial right skew and extreme outliers This discovery motivated further data cleaning.\n"
   ]
  },
  {
   "cell_type": "code",
   "execution_count": 14,
   "metadata": {},
   "outputs": [
    {
     "data": {
      "text/plain": [
       "<Axes: xlabel='ConvertedCompYearly', ylabel='Count'>"
      ]
     },
     "execution_count": 14,
     "metadata": {},
     "output_type": "execute_result"
    },
    {
     "data": {
      "image/png": "[encoded data removed]",
      "text/plain": [
       "<Figure size 640x480 with 1 Axes>"
      ]
     },
     "metadata": {},
     "output_type": "display_data"
    }
   ],
   "source": [
    "sns.histplot(de_clean.ConvertedCompYearly, bins= 50)"
   ]
  },
  {
   "cell_type": "code",
   "execution_count": 15,
   "metadata": {},
   "outputs": [
    {
     "data": {
      "text/plain": [
       "<Axes: >"
      ]
     },
     "execution_count": 15,
     "metadata": {},
     "output_type": "execute_result"
    },
    {
     "data": {
      "image/png": "[encoded data removed]",
      "text/plain": [
       "<Figure size 640x480 with 1 Axes>"
      ]
     },
     "metadata": {},
     "output_type": "display_data"
    }
   ],
   "source": [
    "de_clean.ConvertedCompYearly.plot(kind= 'box')"
   ]
  },
  {
   "cell_type": "code",
   "execution_count": 16,
   "metadata": {},
   "outputs": [
    {
     "data": {
      "text/plain": [
       "6.452788185346978"
      ]
     },
     "execution_count": 16,
     "metadata": {},
     "output_type": "execute_result"
    }
   ],
   "source": [
    "de_clean.ConvertedCompYearly.skew()"
   ]
  },
  {
   "cell_type": "code",
   "execution_count": 17,
   "metadata": {},
   "outputs": [
    {
     "data": {
      "text/plain": [
       "<Axes: xlabel='ConvertedCompYearly', ylabel='Count'>"
      ]
     },
     "execution_count": 17,
     "metadata": {},
     "output_type": "execute_result"
    },
    {
     "data": {
      "image/png": "[encoded data removed]",
      "text/plain": [
       "<Figure size 640x480 with 1 Axes>"
      ]
     },
     "metadata": {},
     "output_type": "display_data"
    }
   ],
   "source": [
    "sns.histplot(us_clean.ConvertedCompYearly, bins= 50)"
   ]
  },
  {
   "cell_type": "code",
   "execution_count": 18,
   "metadata": {},
   "outputs": [
    {
     "data": {
      "text/plain": [
       "<Axes: >"
      ]
     },
     "execution_count": 18,
     "metadata": {},
     "output_type": "execute_result"
    },
    {
     "data": {
      "image/png": "[encoded data removed]",
      "text/plain": [
       "<Figure size 640x480 with 1 Axes>"
      ]
     },
     "metadata": {},
     "output_type": "display_data"
    }
   ],
   "source": [
    "us_clean.ConvertedCompYearly.plot(kind= 'box')"
   ]
  },
  {
   "cell_type": "code",
   "execution_count": 19,
   "metadata": {},
   "outputs": [
    {
     "data": {
      "text/plain": [
       "2.9396980795170755"
      ]
     },
     "execution_count": 19,
     "metadata": {},
     "output_type": "execute_result"
    }
   ],
   "source": [
    "us_clean.ConvertedCompYearly.skew()"
   ]
  },
  {
   "cell_type": "markdown",
   "metadata": {},
   "source": [
    "## Transformation & Trimming\n",
    "\n",
    "Raw salary data in both groups showed high right skewness (6.45 and 2.93). To address this, we apply a natural log transformation using `np.log1p()`. Then, we will deal with outliers by applying pd.quantile() to remove extrem enteries. Our expectation is that both measuers will signfactly reduce skewness\n"
   ]
  },
  {
   "cell_type": "code",
   "execution_count": 20,
   "metadata": {},
   "outputs": [
    {
     "name": "stderr",
     "output_type": "stream",
     "text": [
      "/var/folders/tm/f180h_jd4k3678l687xfd8km0000gn/T/ipykernel_64092/2841278784.py:1: SettingWithCopyWarning: \n",
      "A value is trying to be set on a copy of a slice from a DataFrame.\n",
      "Try using .loc[row_indexer,col_indexer] = value instead\n",
      "\n",
      "See the caveats in the documentation: https://pandas.pydata.org/pandas-docs/stable/user_guide/indexing.html#returning-a-view-versus-a-copy\n",
      "  de_clean['LogSalary'] = np.log1p(de_clean['ConvertedCompYearly'])\n",
      "/var/folders/tm/f180h_jd4k3678l687xfd8km0000gn/T/ipykernel_64092/2841278784.py:2: SettingWithCopyWarning: \n",
      "A value is trying to be set on a copy of a slice from a DataFrame.\n",
      "Try using .loc[row_indexer,col_indexer] = value instead\n",
      "\n",
      "See the caveats in the documentation: https://pandas.pydata.org/pandas-docs/stable/user_guide/indexing.html#returning-a-view-versus-a-copy\n",
      "  us_clean['LogSalary'] = np.log1p(us_clean['ConvertedCompYearly'])\n"
     ]
    }
   ],
   "source": [
    "de_clean['LogSalary'] = np.log1p(de_clean['ConvertedCompYearly'])\n",
    "us_clean['LogSalary'] = np.log1p(us_clean['ConvertedCompYearly'])\n",
    "\n"
   ]
  },
  {
   "cell_type": "code",
   "execution_count": 21,
   "metadata": {},
   "outputs": [
    {
     "data": {
      "text/plain": [
       "<Axes: xlabel='LogSalary', ylabel='Count'>"
      ]
     },
     "execution_count": 21,
     "metadata": {},
     "output_type": "execute_result"
    },
    {
     "data": {
      "image/png": "[encoded data removed]",
      "text/plain": [
       "<Figure size 640x480 with 1 Axes>"
      ]
     },
     "metadata": {},
     "output_type": "display_data"
    }
   ],
   "source": [
    "sns.histplot(de_clean.LogSalary, bins= 25)"
   ]
  },
  {
   "cell_type": "code",
   "execution_count": 22,
   "metadata": {},
   "outputs": [
    {
     "data": {
      "text/plain": [
       "<Axes: >"
      ]
     },
     "execution_count": 22,
     "metadata": {},
     "output_type": "execute_result"
    },
    {
     "data": {
      "image/png": "[encoded data removed]",
      "text/plain": [
       "<Figure size 640x480 with 1 Axes>"
      ]
     },
     "metadata": {},
     "output_type": "display_data"
    }
   ],
   "source": [
    "de_clean.LogSalary.plot(kind= 'box')"
   ]
  },
  {
   "cell_type": "code",
   "execution_count": 23,
   "metadata": {},
   "outputs": [
    {
     "data": {
      "text/plain": [
       "<Axes: xlabel='LogSalary', ylabel='Count'>"
      ]
     },
     "execution_count": 23,
     "metadata": {},
     "output_type": "execute_result"
    },
    {
     "data": {
      "image/png": "[encoded data removed]",
      "text/plain": [
       "<Figure size 640x480 with 1 Axes>"
      ]
     },
     "metadata": {},
     "output_type": "display_data"
    }
   ],
   "source": [
    "sns.histplot(us_clean.LogSalary, bins= 25)"
   ]
  },
  {
   "cell_type": "code",
   "execution_count": 24,
   "metadata": {},
   "outputs": [
    {
     "data": {
      "text/plain": [
       "<Axes: >"
      ]
     },
     "execution_count": 24,
     "metadata": {},
     "output_type": "execute_result"
    },
    {
     "data": {
      "image/png": "[encoded data removed]",
      "text/plain": [
       "<Figure size 640x480 with 1 Axes>"
      ]
     },
     "metadata": {},
     "output_type": "display_data"
    }
   ],
   "source": [
    "us_clean.LogSalary.plot(kind= 'box')"
   ]
  },
  {
   "cell_type": "code",
   "execution_count": 25,
   "metadata": {},
   "outputs": [
    {
     "data": {
      "text/plain": [
       "0.3417234006565254"
      ]
     },
     "execution_count": 25,
     "metadata": {},
     "output_type": "execute_result"
    }
   ],
   "source": [
    "us_clean.LogSalary.skew()"
   ]
  },
  {
   "cell_type": "code",
   "execution_count": 26,
   "metadata": {},
   "outputs": [
    {
     "data": {
      "text/plain": [
       "2.0952890902664487"
      ]
     },
     "execution_count": 26,
     "metadata": {},
     "output_type": "execute_result"
    }
   ],
   "source": [
    "de_clean.LogSalary.skew()"
   ]
  },
  {
   "cell_type": "code",
   "execution_count": 27,
   "metadata": {},
   "outputs": [],
   "source": [
    "germany_98 = de_clean['LogSalary'].quantile(0.98)\n",
    "de_clean_trimmed = de_clean[ de_clean['LogSalary'] < germany_98]"
   ]
  },
  {
   "cell_type": "code",
   "execution_count": 28,
   "metadata": {},
   "outputs": [
    {
     "data": {
      "text/plain": [
       "-0.017000280838482103"
      ]
     },
     "execution_count": 28,
     "metadata": {},
     "output_type": "execute_result"
    }
   ],
   "source": [
    "de_clean_trimmed.LogSalary.skew()\n"
   ]
  },
  {
   "cell_type": "code",
   "execution_count": 44,
   "metadata": {},
   "outputs": [
    {
     "data": {
      "text/plain": [
       "<Axes: xlabel='LogSalary', ylabel='Count'>"
      ]
     },
     "execution_count": 44,
     "metadata": {},
     "output_type": "execute_result"
    },
    {
     "data": {
      "image/png": "[encoded data removed]",
      "text/plain": [
       "<Figure size 640x480 with 1 Axes>"
      ]
     },
     "metadata": {},
     "output_type": "display_data"
    }
   ],
   "source": [
    "sns.histplot(de_clean_trimmed.LogSalary, bins= 10)"
   ]
  },
  {
   "cell_type": "code",
   "execution_count": 30,
   "metadata": {},
   "outputs": [
    {
     "data": {
      "text/plain": [
       "<Axes: >"
      ]
     },
     "execution_count": 30,
     "metadata": {},
     "output_type": "execute_result"
    },
    {
     "data": {
      "image/png": "[encoded data removed]",
      "text/plain": [
       "<Figure size 640x480 with 1 Axes>"
      ]
     },
     "metadata": {},
     "output_type": "display_data"
    }
   ],
   "source": [
    "de_clean_trimmed.LogSalary.plot(kind= 'box')"
   ]
  },
  {
   "cell_type": "code",
   "execution_count": 31,
   "metadata": {},
   "outputs": [],
   "source": [
    "us_99 = us_clean['LogSalary'].quantile(0.995)\n",
    "us_clean_trimmed = us_clean[ us_clean['LogSalary'] < us_99]"
   ]
  },
  {
   "cell_type": "code",
   "execution_count": 32,
   "metadata": {},
   "outputs": [
    {
     "data": {
      "text/plain": [
       "0.03636784363494462"
      ]
     },
     "execution_count": 32,
     "metadata": {},
     "output_type": "execute_result"
    }
   ],
   "source": [
    "us_clean_trimmed.LogSalary.skew()"
   ]
  },
  {
   "cell_type": "code",
   "execution_count": 45,
   "metadata": {},
   "outputs": [
    {
     "data": {
      "text/plain": [
       "<Axes: xlabel='LogSalary', ylabel='Count'>"
      ]
     },
     "execution_count": 45,
     "metadata": {},
     "output_type": "execute_result"
    },
    {
     "data": {
      "image/png": "[encoded data removed]",
      "text/plain": [
       "<Figure size 640x480 with 1 Axes>"
      ]
     },
     "metadata": {},
     "output_type": "display_data"
    }
   ],
   "source": [
    "sns.histplot(us_clean_trimmed.LogSalary, bins= 10)"
   ]
  },
  {
   "cell_type": "code",
   "execution_count": 33,
   "metadata": {},
   "outputs": [
    {
     "data": {
      "text/plain": [
       "<Axes: >"
      ]
     },
     "execution_count": 33,
     "metadata": {},
     "output_type": "execute_result"
    },
    {
     "data": {
      "image/png": "[encoded data removed]",
      "text/plain": [
       "<Figure size 640x480 with 1 Axes>"
      ]
     },
     "metadata": {},
     "output_type": "display_data"
    }
   ],
   "source": [
    "us_clean_trimmed.LogSalary.plot(kind= 'box')"
   ]
  },
  {
   "cell_type": "markdown",
   "metadata": {},
   "source": [
    "## Hypothesis Testing\n",
    "\n",
    "With our clean, transformed data, we formally test:\n",
    "- **H₀:** US and German early-career developer salaries are equal (on average)\n",
    "- **H₁:** There is a difference in average salaries\n",
    "\n",
    "We use the Welch’s t-test, which is robust to unequal sample sizes and variances.\n"
   ]
  },
  {
   "cell_type": "code",
   "execution_count": 34,
   "metadata": {},
   "outputs": [
    {
     "name": "stdout",
     "output_type": "stream",
     "text": [
      "16.20288168803127 5.776035654572501e-43\n"
     ]
    }
   ],
   "source": [
    "t_stat, p_val = ttest_ind(us_clean_trimmed.LogSalary, \n",
    "                          de_clean_trimmed.LogSalary, \n",
    "                          equal_var=False)\n",
    "\n",
    "print(t_stat, p_val)"
   ]
  },
  {
   "cell_type": "markdown",
   "metadata": {},
   "source": [
    "## Calculating the Salary Gap\n",
    "\n",
    "We compute the 95% confidence interval for the difference in log-mean salaries, then exponentiate to interpret the result as a percent difference in average salary between the US and Germany.\n"
   ]
  },
  {
   "cell_type": "code",
   "execution_count": 35,
   "metadata": {},
   "outputs": [
    {
     "name": "stdout",
     "output_type": "stream",
     "text": [
      "10.881382600599588 11.442357236062094 0.24058000596683965 0.39175738292515533 0.5609746354625056\n"
     ]
    }
   ],
   "source": [
    "mean_de_log = de_clean_trimmed.LogSalary.mean()\n",
    "mean_us_log = us_clean_trimmed.LogSalary.mean()\n",
    "\n",
    "std_de_log = de_clean_trimmed.LogSalary.std(ddof=1)\n",
    "std_us_log = us_clean_trimmed.LogSalary.std(ddof=1)\n",
    "\n",
    "diff_m_log = mean_us_log - mean_de_log\n",
    "\n",
    "print(mean_de_log,\n",
    "      mean_us_log,\n",
    "      std_de_log,\n",
    "      std_us_log,\n",
    "      diff_m_log)\n",
    "\n"
   ]
  },
  {
   "cell_type": "code",
   "execution_count": 36,
   "metadata": {},
   "outputs": [
    {
     "name": "stdout",
     "output_type": "stream",
     "text": [
      "(0.4928449541783957, 0.6291043167466155)\n"
     ]
    }
   ],
   "source": [
    "n1, n2 = len(de_clean_trimmed.LogSalary), len(us_clean_trimmed.LogSalary)\n",
    "\n",
    "se1, se2 = std_de_log / np.sqrt(n1), std_us_log / np.sqrt(n2)\n",
    "\n",
    "se_diff = np.sqrt(se1**2 + se2**2)\n",
    "\n",
    "df = (se1**2 + se2**2)**2 / ((se1**4 / (n1-1)) + (se2**4 / (n2-1)))\n",
    "\n",
    "t_crit = t.ppf(0.975, df )\n",
    "\n",
    "moe = t_crit * se_diff\n",
    "\n",
    "ci_lo = diff_m_log - moe \n",
    "ci_upp = diff_m_log + moe\n",
    "\n",
    "print((ci_lo, ci_upp))\n",
    "\n"
   ]
  },
  {
   "cell_type": "code",
   "execution_count": 37,
   "metadata": {},
   "outputs": [
    {
     "name": "stdout",
     "output_type": "stream",
     "text": [
      "(63.696669686600835, 87.59295878424324)\n"
     ]
    }
   ],
   "source": [
    "print((np.expm1(ci_lo) * 100, np.expm1(ci_upp) * 100))\n"
   ]
  },
  {
   "cell_type": "markdown",
   "metadata": {},
   "source": [
    "## Regression Analysis\n",
    "\n",
    "To see if the US–Germany gap remains after accounting for education and experience, we fit a regression model with:\n",
    "- Outcome: Log salary\n",
    "- Predictors: Country, education level, work experience\n",
    "\n",
    "This lets us isolate the \"country effect\" net of these other important variables.\n"
   ]
  },
  {
   "cell_type": "code",
   "execution_count": 38,
   "metadata": {},
   "outputs": [
    {
     "name": "stdout",
     "output_type": "stream",
     "text": [
      "                            OLS Regression Results                            \n",
      "==============================================================================\n",
      "Dep. Variable:              LogSalary   R-squared:                       0.453\n",
      "Model:                            OLS   Adj. R-squared:                  0.440\n",
      "Method:                 Least Squares   F-statistic:                     34.64\n",
      "Date:                Sun, 06 Jul 2025   Prob (F-statistic):           1.16e-39\n",
      "Time:                        20:09:39   Log-Likelihood:                -98.583\n",
      "No. Observations:                 343   AIC:                             215.2\n",
      "Df Residuals:                     334   BIC:                             249.7\n",
      "Df Model:                           8                                         \n",
      "Covariance Type:            nonrobust                                         \n",
      "====================================================================================================================================================================\n",
      "                                                                                                       coef    std err          t      P>|t|      [0.025      0.975]\n",
      "--------------------------------------------------------------------------------------------------------------------------------------------------------------------\n",
      "Intercept                                                                                           10.5370      0.124     84.991      0.000      10.293      10.781\n",
      "C(Country)[T.United States of America]                                                               0.5513      0.042     13.108      0.000       0.469       0.634\n",
      "C(EdLevel)[T.Bachelor’s degree (B.A., B.S., B.Eng., etc.)]                                           0.2910      0.112      2.604      0.010       0.071       0.511\n",
      "C(EdLevel)[T.Master’s degree (M.A., M.S., M.Eng., MBA, etc.)]                                        0.4755      0.128      3.703      0.000       0.223       0.728\n",
      "C(EdLevel)[T.Professional degree (JD, MD, Ph.D, Ed.D, etc.)]                                         0.0995      0.349      0.285      0.776      -0.588       0.787\n",
      "C(EdLevel)[T.Secondary school (e.g. American high school, German Realschule or Gymnasium, etc.)]     0.1047      0.123      0.853      0.394      -0.137       0.346\n",
      "C(EdLevel)[T.Some college/university study without earning a degree]                                -0.0547      0.122     -0.450      0.653      -0.294       0.185\n",
      "C(EdLevel)[T.Something else]                                                                         0.2938      0.186      1.578      0.115      -0.072       0.660\n",
      "WorkExp                                                                                              0.0369      0.010      3.666      0.000       0.017       0.057\n",
      "==============================================================================\n",
      "Omnibus:                        4.001   Durbin-Watson:                   2.030\n",
      "Prob(Omnibus):                  0.135   Jarque-Bera (JB):                4.307\n",
      "Skew:                           0.132   Prob(JB):                        0.116\n",
      "Kurtosis:                       3.482   Cond. No.                         80.4\n",
      "==============================================================================\n",
      "\n",
      "Notes:\n",
      "[1] Standard Errors assume that the covariance matrix of the errors is correctly specified.\n"
     ]
    }
   ],
   "source": [
    "# Concatenate the cleaned dataframes\n",
    "df_reg = pd.concat([de_clean_trimmed, us_clean_trimmed], axis=0)\n",
    "\n",
    "# Fit the model (treat Country and EdLevel as categorical)\n",
    "model = smf.ols('LogSalary ~ C(Country) + C(EdLevel) + WorkExp', data=df_reg).fit()\n",
    "print(model.summary())\n"
   ]
  },
  {
   "cell_type": "markdown",
   "metadata": {},
   "source": [
    "## Regression Diagnostics\n",
    "\n",
    "We check the normality of model residuals using a Q-Q plot. The residuals are nearly perfectly normal, confirming that our assumptions for inference are well satisfied.\n"
   ]
  },
  {
   "cell_type": "code",
   "execution_count": 39,
   "metadata": {},
   "outputs": [
    {
     "data": {
      "image/png": "[encoded data removed]",
      "text/plain": [
       "<Figure size 600x600 with 1 Axes>"
      ]
     },
     "metadata": {},
     "output_type": "display_data"
    }
   ],
   "source": [
    "resd = model.resid\n",
    "plt.figure(figsize=(6,6))\n",
    "stats.probplot(resd, dist=\"norm\", plot=plt)\n",
    "plt.title(\"Q-Q Plot of Regression Residuals\")\n",
    "plt.show()"
   ]
  },
  {
   "cell_type": "markdown",
   "metadata": {},
   "source": [
    "## Final Results and Interpretation\n",
    "\n",
    "After rigorous data cleaning, outlier removal, and adjustment for education and work experience, our regression analysis shows:\n",
    "\n",
    "- **Country effect (US vs. Germany):**\n",
    "    - **t-statistic:** 13.108\n",
    "    - **p-value:** p < 0.05\n",
    "    - **Coefficient (log salary):** 0.5513\n",
    "    - **Interpreted as percent difference:** US early-career developers earn about 73.5% more than their German counterparts (95% CI: 59.8% to 88.5%).\n",
    "\n",
    "This effect is statistically significant after all adjustments. While a simple group comparison (t-test) also showed a large gap, the regression confirms that the difference persists even after accounting for differences in education and experience.\n",
    "\n",
    "**Conclusion:**  \n",
    "The salary gap between young developers in the US and Germany is large, robust, and statistically significant—even after controlling for key confounding factors.\n"
   ]
  }
 ],
 "metadata": {
  "kernelspec": {
   "display_name": "base",
   "language": "python",
   "name": "python3"
  },
  "language_info": {
   "codemirror_mode": {
    "name": "ipython",
    "version": 3
   },
   "file_extension": ".py",
   "mimetype": "text/x-python",
   "name": "python",
   "nbconvert_exporter": "python",
   "pygments_lexer": "ipython3",
   "version": "3.10.9"
  }
 },
 "nbformat": 4,
 "nbformat_minor": 2
}
